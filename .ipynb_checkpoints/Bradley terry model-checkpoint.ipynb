{
 "cells": [
  {
   "cell_type": "code",
   "execution_count": 2,
   "id": "16969753-6cc0-49d0-8406-26561edfa895",
   "metadata": {},
   "outputs": [],
   "source": [
    "import numpy as np"
   ]
  },
  {
   "cell_type": "code",
   "execution_count": 29,
   "id": "7afb7f6c-ac58-498d-98f3-3a2fcaa11f61",
   "metadata": {},
   "outputs": [
    {
     "name": "stderr",
     "output_type": "stream",
     "text": [
      "/tmp/ipykernel_210439/1824938147.py:1: DeprecationWarning: This function is deprecated. Please call randint(0, 15 + 1) instead\n",
      "  x = np.random.random_integers(0,15,(3,3))\n"
     ]
    }
   ],
   "source": [
    "x = np.random.random_integers(0,15,(3,3))\n",
    "for row, y in enumerate(x):\n",
    "    x[row][row] = 0"
   ]
  },
  {
   "cell_type": "code",
   "execution_count": 30,
   "id": "254d76d2-ee51-45ff-b41b-cf8824546311",
   "metadata": {},
   "outputs": [
    {
     "data": {
      "text/plain": [
       "array([[ 0, 11, 15],\n",
       "       [11,  0, 10],\n",
       "       [14, 13,  0]])"
      ]
     },
     "execution_count": 30,
     "metadata": {},
     "output_type": "execute_result"
    }
   ],
   "source": [
    "x"
   ]
  },
  {
   "cell_type": "code",
   "execution_count": 184,
   "id": "7405c1d5-761e-4e17-8b59-743265fb25b6",
   "metadata": {},
   "outputs": [],
   "source": [
    "from typing import Optional, Union, Tuple\n",
    "import numpy as np\n",
    "from pydantic import BaseModel\n",
    "\n",
    "\n",
    "class BradleyTerryModel(BaseModel):\n",
    "    M: np.ndarray  # Pairwise comparison matrix\n",
    "    params: np.ndarray  # Parameters p_2, p_3, ..., p_n\n",
    "    a: float  # Scaling factor for the probability exponent\n",
    "\n",
    "    class Config:\n",
    "        arbitrary_types_allowed = True\n",
    "\n",
    "    def __init__(\n",
    "        self,\n",
    "        M: np.ndarray,\n",
    "        params: Optional[Union[float, str, np.ndarray]] = None,\n",
    "        a: Optional[Union[float, str]] = None,\n",
    "    ):\n",
    "        \"\"\"\n",
    "        Initialize the Bradley-Terry Model.\n",
    "    \n",
    "        Args:\n",
    "            M (np.ndarray): Pairwise comparison matrix.\n",
    "            params (Union[float, str, np.ndarray], optional): \n",
    "                Initialization for the parameters. Can be:\n",
    "                - A constant float (all parameters initialized to this value).\n",
    "                - \"random\" for random initialization.\n",
    "                - An array of custom values.\n",
    "                - Default: 0 for all parameters.\n",
    "            a (Union[float, str], optional): \n",
    "                Scaling factor. Can be:\n",
    "                - A float value for direct initialization.\n",
    "                - A percentage advantage as a string, e.g., \"10%\" means a 10% advantage per point in the output.\n",
    "                - Default: 1.0.\n",
    "        \"\"\"\n",
    "        n = M.shape[0]  # Number of items\n",
    "    \n",
    "        # Initialize params\n",
    "        if params is None:\n",
    "            params_array = np.zeros(n - 1)  # Default: all zeros\n",
    "        elif isinstance(params, float):\n",
    "            params_array = np.full(n - 1, params)  # All params set to the given float\n",
    "        elif isinstance(params, str) and params.lower() == \"random\":\n",
    "            params_array = np.random.rand(n - 1)  # Random initialization\n",
    "        elif isinstance(params, np.ndarray):\n",
    "            if params.shape == (n - 1,):\n",
    "                params_array = params\n",
    "            else:\n",
    "                raise ValueError(\"params must have shape (n-1,) to match the number of items.\")\n",
    "        else:\n",
    "            raise ValueError(\"Invalid params initialization.\")\n",
    "    \n",
    "        # Initialize a\n",
    "        if a is None:\n",
    "            a_value = 1.0  # Default scaling factor\n",
    "        elif isinstance(a, float):\n",
    "            a_value = a  # Directly set scaling factor\n",
    "        elif isinstance(a, str) and a.endswith(\"%\"):\n",
    "            try:\n",
    "                percentage = float(a.strip('%')) / 100.0\n",
    "                a_value = np.log(1 + percentage)  # Compute scaling factor for percentage advantage\n",
    "            except ValueError:\n",
    "                raise ValueError(\"Invalid percentage format for 'a'. Use a float or '10%' format.\")\n",
    "        else:\n",
    "            raise ValueError(\"Invalid 'a' initialization.\")\n",
    "    \n",
    "        # Explicitly call BaseModel's init with all fields\n",
    "        super().__init__(M=M, params=params_array, a=a_value)\n",
    "\n",
    "\n",
    "    def gradient(self) -> np.ndarray:\n",
    "        \"\"\"\n",
    "        Compute the gradient vector of the log-likelihood function.\n",
    "    \n",
    "        Returns:\n",
    "            np.ndarray: Gradient vector.\n",
    "        \"\"\"\n",
    "        n = self.M.shape[0]\n",
    "        grad = np.zeros(n - 1)\n",
    "        \n",
    "        # Compute the probabilities\n",
    "        probs = np.zeros((n, n))\n",
    "        exp_params = np.exp(np.insert(self.params, 0, 0) * self.a)\n",
    "        \n",
    "        for i in range(n):\n",
    "            for j in range(n):\n",
    "                if i != j:\n",
    "                    probs[i, j] = exp_params[i] / (exp_params[i] + exp_params[j])\n",
    "        \n",
    "        # Compute the gradient\n",
    "        for i in range(1, n):  # params corresponds to items 2, ..., n\n",
    "            grad[i - 1] = self.a * sum(\n",
    "                self.M[i, j] - ( (self.M[j, i] + self.M[i,j] ) * probs[i, j]) for j in range(n) if j != i\n",
    "            )\n",
    "        \n",
    "        return grad\n",
    "\n",
    "\n",
    "    def hessian(self) -> np.ndarray:\n",
    "        \"\"\"\n",
    "        Compute the Hessian matrix of the log-likelihood function.\n",
    "    \n",
    "        Returns:\n",
    "            np.ndarray: Hessian matrix.\n",
    "        \"\"\"\n",
    "        n = self.M.shape[0]\n",
    "        hess = np.zeros((n - 1, n - 1))\n",
    "        \n",
    "        # Compute the probabilities\n",
    "        probs = np.zeros((n, n))\n",
    "        exp_params = np.exp(np.insert(self.params, 0, 0) * self.a)\n",
    "        \n",
    "        for i in range(n):\n",
    "            for j in range(n):\n",
    "                if i != j:\n",
    "                    probs[i, j] = exp_params[i] / (exp_params[i] + exp_params[j])\n",
    "        \n",
    "        # Compute the Hessian\n",
    "        for i in range(1, n):  # params corresponds to items 2, ..., n\n",
    "            for j in range(1, n):\n",
    "                if j == i:  # Diagonal entries\n",
    "                    hess[i - 1, i - 1] = -( self.a ** 2 )  * sum(\n",
    "                        ( self.M[i, k] + self.M[k, i] ) * ( probs[i, k] * probs[k, i] ) for k in range(n) if k != i\n",
    "                    )\n",
    "                else:  # Off-diagonal entries\n",
    "                    hess[i - 1, j - 1] = ( self.a ** 2 ) * ( ( self.M[i, j] + self.M[j,i] ) * probs[i, j] * probs[j, i] )\n",
    "        return hess\n",
    "\n",
    "\n",
    "    def newton_raphson(\n",
    "        self, max_iter: int = 100, tol: float = 1e-6, verbose: bool = False\n",
    "    ) -> Tuple[np.ndarray, int]:\n",
    "        \"\"\"\n",
    "        Perform the Newton-Raphson method to optimize parameters.\n",
    "    \n",
    "        Args:\n",
    "            max_iter (int): Maximum number of iterations. Default is 100.\n",
    "            tol (float): Convergence tolerance for gradient norm. Default is 1e-6.\n",
    "            verbose (bool): If True, print details of each iteration. Default is False.\n",
    "    \n",
    "        Returns:\n",
    "            Tuple[np.ndarray, int]: Optimized parameters and the number of iterations performed.\n",
    "        \"\"\"\n",
    "        self.params = self.params.copy()  # Start with current parameters\n",
    "    \n",
    "        for iteration in range(max_iter):\n",
    "            grad = self.gradient()\n",
    "            hess = self.hessian()\n",
    "    \n",
    "            # Check if Hessian is singular\n",
    "            try:\n",
    "                delta = np.linalg.solve(hess, grad)  # Solve Hessian * delta = gradient\n",
    "            except np.linalg.LinAlgError:\n",
    "                raise ValueError(\"Hessian is singular; Newton-Raphson cannot proceed.\")\n",
    "    \n",
    "            # Update parameters\n",
    "            self.params -= delta\n",
    "    \n",
    "            # Verbose logging\n",
    "            if verbose:\n",
    "                print(f\"Iteration {iteration + 1}:\")\n",
    "                print(f\"  Gradient Norm: {np.linalg.norm(grad):.6f}\")\n",
    "                print(f\"  Parameter Update: {delta}\")\n",
    "                print(f\"  Updated Parameters: {self.params}\\n\")\n",
    "    \n",
    "            # Check convergence\n",
    "            if np.linalg.norm(grad) < tol:\n",
    "                if verbose:\n",
    "                    print(\"Convergence achieved.\")\n",
    "                return self.params, iteration + 1\n",
    "    \n",
    "        if verbose:\n",
    "            print(\"Newton-Raphson did not converge within the maximum number of iterations.\")\n",
    "        raise ValueError(\"Newton-Raphson did not converge within the maximum number of iterations.\")\n",
    "\n",
    "\n"
   ]
  },
  {
   "cell_type": "code",
   "execution_count": 186,
   "id": "61fda21c-4116-453b-8f66-04c5be7bd4ff",
   "metadata": {},
   "outputs": [
    {
     "name": "stdout",
     "output_type": "stream",
     "text": [
      "Iteration 1:\n",
      "  Gradient Norm: 0.206882\n",
      "  Parameter Update: [ -1.6384778  -19.88372093  -5.15856237]\n",
      "  Updated Parameters: [ 1.6384778  19.88372093  5.15856237]\n",
      "\n",
      "Iteration 2:\n",
      "  Gradient Norm: 0.008617\n",
      "  Parameter Update: [-0.02626127 -0.89234677 -0.08278357]\n",
      "  Updated Parameters: [ 1.66473907 20.7760677   5.24134594]\n",
      "\n",
      "Iteration 3:\n",
      "  Gradient Norm: 0.000052\n",
      "  Parameter Update: [-6.94389986e-05 -5.34830774e-03 -2.44769849e-04]\n",
      "  Updated Parameters: [ 1.66480851 20.78141601  5.24159071]\n",
      "\n",
      "Iteration 4:\n",
      "  Gradient Norm: 0.000000\n",
      "  Parameter Update: [-1.85642861e-09 -2.01890675e-07 -7.05032570e-09]\n",
      "  Updated Parameters: [ 1.66480851 20.78141621  5.24159071]\n",
      "\n",
      "Convergence achieved.\n",
      "Number of iterations: 4\n"
     ]
    }
   ],
   "source": [
    "# Example pairwise comparison matrix\n",
    "M = np.array([\n",
    "    [0, 16, 2, 5],\n",
    "    [17, 0, 4, 9],\n",
    "    [5, 9, 0, 3],\n",
    "    [6,10,2, 0]\n",
    "])\n",
    "\n",
    "# Create the model\n",
    "model = BradleyTerryModel(M=M, a=0.0400)\n",
    "\n",
    "# Run the Newton-Raphson solver\n",
    "final_params, num_iterations = model.newton_raphson(verbose=True, max_iter=1000)\n",
    "print(\"Number of iterations:\", num_iterations)\n"
   ]
  },
  {
   "cell_type": "code",
   "execution_count": 119,
   "id": "acfdb44a-5d90-414e-8647-20c19abc9511",
   "metadata": {},
   "outputs": [
    {
     "name": "stdout",
     "output_type": "stream",
     "text": [
      "Iteration 1: Gradient norm = 0.44279166657858227, params = [0.27156475 0.88186096 0.41746159]\n",
      "Iteration 2: Gradient norm = 0.0008324739959828366, params = [0.27166866 0.88199294 0.41756606]\n",
      "Converged in 3 iterations.\n"
     ]
    }
   ],
   "source": [
    "M[1][0] += 1\n",
    "final_params, num_iterations = model.newton_raphson(verbose=True, max_iter=5)"
   ]
  },
  {
   "cell_type": "code",
   "execution_count": 122,
   "id": "b7e58f5b-9ffe-43be-8249-512f7e518d73",
   "metadata": {},
   "outputs": [
    {
     "name": "stdout",
     "output_type": "stream",
     "text": [
      "Iteration 1: Gradient norm = 3.8729842005185864, params = [0.00590684 0.00466789 0.12196524]\n",
      "Iteration 2: Gradient norm = 0.16673651005808546, params = [0.0104467  0.02688634 0.12805894]\n",
      "Iteration 3: Gradient norm = 1.4767284176078759e-05, params = [0.01044715 0.02688634 0.12806083]\n",
      "Converged in 4 iterations.\n"
     ]
    }
   ],
   "source": [
    "M[0][2] += 6\n",
    "final_params, num_iterations = model.newton_raphson(verbose=True, max_iter=5)"
   ]
  },
  {
   "cell_type": "code",
   "execution_count": 123,
   "id": "911bbcad-d12d-4bca-a77d-0ca612b2d712",
   "metadata": {},
   "outputs": [],
   "source": [
    "M[1][0] += 1"
   ]
  },
  {
   "cell_type": "code",
   "execution_count": 124,
   "id": "8a93db3f-886c-4505-9eda-d4c95b5e1f3a",
   "metadata": {},
   "outputs": [
    {
     "name": "stdout",
     "output_type": "stream",
     "text": [
      "Iteration 1: Gradient norm = 0.49738823642144503, params = [0.0523434  0.04873217 0.15410059]\n",
      "Iteration 2: Gradient norm = 0.00010725428412356456, params = [0.05235358 0.04874148 0.15411824]\n",
      "Converged in 3 iterations.\n"
     ]
    }
   ],
   "source": [
    "final_params, num_iterations = model.newton_raphson(verbose=True, max_iter=5)"
   ]
  },
  {
   "cell_type": "code",
   "execution_count": 125,
   "id": "5b5c6cdd-a9d7-44fc-9636-a1ceb30e47c5",
   "metadata": {},
   "outputs": [
    {
     "data": {
      "text/plain": [
       "array([[ 0, 15,  9,  4],\n",
       "       [19,  0,  5,  9],\n",
       "       [ 5,  9,  0,  3],\n",
       "       [ 6,  9,  3,  0]])"
      ]
     },
     "execution_count": 125,
     "metadata": {},
     "output_type": "execute_result"
    }
   ],
   "source": [
    "M"
   ]
  },
  {
   "cell_type": "code",
   "execution_count": 145,
   "id": "94e86a35-e6a7-4838-a18e-9a13d71755db",
   "metadata": {},
   "outputs": [],
   "source": [
    "def predict_win_prob( params, i, j ):\n",
    "    p = [0] \n",
    "    p.extend(params)\n",
    "    return np.exp(p[i])/(np.exp(p[i]) + np.exp(p[j]))"
   ]
  },
  {
   "cell_type": "code",
   "execution_count": 149,
   "id": "ee81cfcb-1f29-4832-9de3-6596bfe03c13",
   "metadata": {},
   "outputs": [
    {
     "data": {
      "text/plain": [
       "np.float64(0.46154652275770724)"
      ]
     },
     "execution_count": 149,
     "metadata": {},
     "output_type": "execute_result"
    }
   ],
   "source": [
    "predict_win_prob( final_params, 0, 3 )"
   ]
  },
  {
   "cell_type": "code",
   "execution_count": 140,
   "id": "14d46627-f0cb-4163-820e-52136a87ee14",
   "metadata": {},
   "outputs": [
    {
     "name": "stdout",
     "output_type": "stream",
     "text": [
      "None [0, np.float64(0.052353581404438944), np.float64(0.04874147618570107), np.float64(0.1541182430569482)]\n"
     ]
    }
   ],
   "source": [
    "x=[0]\n",
    "print(x.extend(final_params),x)"
   ]
  },
  {
   "cell_type": "code",
   "execution_count": 150,
   "id": "de085d22-734c-499a-bcf5-7a3ab1dc5917",
   "metadata": {},
   "outputs": [
    {
     "name": "stdout",
     "output_type": "stream",
     "text": [
      "Iteration 1: Gradient norm = 15.136964014660883, params = [0.13295379 1.03826879 0.35187838]\n",
      "Iteration 2: Gradient norm = 1.2881400016533915, params = [0.21252684 1.07478291 0.33538691]\n",
      "Iteration 3: Gradient norm = 0.0025986031116963684, params = [0.21265656 1.07531758 0.33571335]\n",
      "Converged in 4 iterations.\n",
      "Number of iterations: 4\n"
     ]
    }
   ],
   "source": [
    "# Example pairwise comparison matrix\n",
    "M = np.array([\n",
    "    [0, 15, 1, 4],\n",
    "    [17, 0, 4, 9],\n",
    "    [5, 9, 0, 3],\n",
    "    [6,9,2, 0]\n",
    "])\n",
    "\n",
    "# Initial parameters\n",
    "initial_params = [0.5, 0.5, 1]\n",
    "\n",
    "# Create the model\n",
    "model = BradleyTerryModel(comparison_matrix=M, initialization=\"random\")\n",
    "\n",
    "# Run the Newton-Raphson solver\n",
    "final_params, num_iterations = model.newton_raphson(verbose=True, max_iter=1000)\n",
    "print(\"Number of iterations:\", num_iterations)"
   ]
  },
  {
   "cell_type": "code",
   "execution_count": 161,
   "id": "359e3046-0171-4d1c-9f03-a942381c6f05",
   "metadata": {},
   "outputs": [
    {
     "data": {
      "text/plain": [
       "np.float64(0.11639711364505728)"
      ]
     },
     "execution_count": 161,
     "metadata": {},
     "output_type": "execute_result"
    }
   ],
   "source": [
    "1/(1+np.exp(0.4054*5))"
   ]
  },
  {
   "cell_type": "code",
   "execution_count": 157,
   "id": "7ac3f91b-d7c7-40df-8deb-4be716134fa4",
   "metadata": {},
   "outputs": [
    {
     "data": {
      "text/plain": [
       "np.float64(0.4054651081081644)"
      ]
     },
     "execution_count": 157,
     "metadata": {},
     "output_type": "execute_result"
    }
   ],
   "source": [
    "np.log(1.5)"
   ]
  },
  {
   "cell_type": "code",
   "execution_count": 166,
   "id": "75b4fd58-f0c0-4ecf-8b91-45762b6fcfc9",
   "metadata": {},
   "outputs": [
    {
     "data": {
      "text/plain": [
       "np.float64(0.040005334613699206)"
      ]
     },
     "execution_count": 166,
     "metadata": {},
     "output_type": "execute_result"
    }
   ],
   "source": [
    "np.log(51/49)"
   ]
  },
  {
   "cell_type": "code",
   "execution_count": null,
   "id": "d7c0445f-8b74-4671-8e67-5579fd556f1d",
   "metadata": {},
   "outputs": [],
   "source": []
  }
 ],
 "metadata": {
  "kernelspec": {
   "display_name": "Python 3 (ipykernel)",
   "language": "python",
   "name": "python3"
  },
  "language_info": {
   "codemirror_mode": {
    "name": "ipython",
    "version": 3
   },
   "file_extension": ".py",
   "mimetype": "text/x-python",
   "name": "python",
   "nbconvert_exporter": "python",
   "pygments_lexer": "ipython3",
   "version": "3.10.12"
  }
 },
 "nbformat": 4,
 "nbformat_minor": 5
}
