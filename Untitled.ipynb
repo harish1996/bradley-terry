{
 "cells": [
  {
   "cell_type": "code",
   "execution_count": 3,
   "id": "c9fe01c3-4699-486e-a34b-6e1331297bad",
   "metadata": {},
   "outputs": [
    {
     "data": {
      "text/latex": [
       "$\\displaystyle 0$"
      ],
      "text/plain": [
       "0"
      ]
     },
     "execution_count": 3,
     "metadata": {},
     "output_type": "execute_result"
    }
   ],
   "source": [
    "import sympy as sp\n",
    "\n",
    "# Define variables\n",
    "p1, p2, p3 = sp.symbols('p1 p2 p3')\n",
    "m12, m13, m21, m23, m31, m32 = sp.symbols('m12 m13 m21 m23 m31 m32')\n",
    "\n",
    "# Define pairwise comparison sums\n",
    "m_sum_12 = m12 + m21\n",
    "m_sum_13 = m13 + m31\n",
    "m_sum_23 = m23 + m32\n",
    "\n",
    "# Exponentials of parameters\n",
    "exp_p1 = sp.exp(p1)\n",
    "exp_p2 = sp.exp(p2)\n",
    "exp_p3 = sp.exp(p3)\n",
    "\n",
    "# Probabilities\n",
    "denom_12 = exp_p1 + exp_p2\n",
    "denom_13 = exp_p1 + exp_p3\n",
    "denom_23 = exp_p2 + exp_p3\n",
    "\n",
    "# Hessian elements\n",
    "H11 = - (m_sum_12 * exp_p1 * exp_p2 / denom_12**2 + m_sum_13 * exp_p1 * exp_p3 / denom_13**2)\n",
    "H22 = - (m_sum_12 * exp_p1 * exp_p2 / denom_12**2 + m_sum_23 * exp_p2 * exp_p3 / denom_23**2)\n",
    "H33 = - (m_sum_13 * exp_p1 * exp_p3 / denom_13**2 + m_sum_23 * exp_p2 * exp_p3 / denom_23**2)\n",
    "\n",
    "H12 = m_sum_12 * exp_p1 * exp_p2 / denom_12**2\n",
    "H13 = m_sum_13 * exp_p1 * exp_p3 / denom_13**2\n",
    "H23 = m_sum_23 * exp_p2 * exp_p3 / denom_23**2\n",
    "\n",
    "# Construct the Hessian matrix\n",
    "Hessian = sp.Matrix([\n",
    "    [H11, H12, H13],\n",
    "    [H12, H22, H23],\n",
    "    [H13, H23, H33]\n",
    "])\n",
    "\n",
    "# Compute the determinant of the Hessian\n",
    "Hessian_det = Hessian.det()\n",
    "Hessian_det\n"
   ]
  },
  {
   "cell_type": "code",
   "execution_count": 2,
   "id": "367eb399-da8d-436d-b0c3-632490fdf86c",
   "metadata": {},
   "outputs": [
    {
     "name": "stdout",
     "output_type": "stream",
     "text": [
      "Collecting sympy\n",
      "  Downloading sympy-1.13.3-py3-none-any.whl (6.2 MB)\n",
      "\u001b[2K     \u001b[90m━━━━━━━━━━━━━━━━━━━━━━━━━━━━━━━━━━━━━━━━\u001b[0m \u001b[32m6.2/6.2 MB\u001b[0m \u001b[31m1.7 MB/s\u001b[0m eta \u001b[36m0:00:00\u001b[0m00:01\u001b[0m00:01\u001b[0m\n",
      "Collecting mpmath<1.4,>=1.1.0\n",
      "  Downloading mpmath-1.3.0-py3-none-any.whl (536 kB)\n",
      "\u001b[2K     \u001b[90m━━━━━━━━━━━━━━━━━━━━━━━━━━━━━━━━━━━━━━━\u001b[0m \u001b[32m536.2/536.2 KB\u001b[0m \u001b[31m2.1 MB/s\u001b[0m eta \u001b[36m0:00:00\u001b[0ma \u001b[36m0:00:01\u001b[0m\n",
      "Installing collected packages: mpmath, sympy\n",
      "Successfully installed mpmath-1.3.0 sympy-1.13.3\n"
     ]
    }
   ],
   "source": [
    "!pip install sympy"
   ]
  },
  {
   "cell_type": "code",
   "execution_count": null,
   "id": "c9aba1d0-d1a3-4792-b681-3587a94cde4f",
   "metadata": {},
   "outputs": [],
   "source": []
  }
 ],
 "metadata": {
  "kernelspec": {
   "display_name": "Python 3 (ipykernel)",
   "language": "python",
   "name": "python3"
  },
  "language_info": {
   "codemirror_mode": {
    "name": "ipython",
    "version": 3
   },
   "file_extension": ".py",
   "mimetype": "text/x-python",
   "name": "python",
   "nbconvert_exporter": "python",
   "pygments_lexer": "ipython3",
   "version": "3.10.12"
  }
 },
 "nbformat": 4,
 "nbformat_minor": 5
}
